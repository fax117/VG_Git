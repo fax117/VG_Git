{
 "cells": [
  {
   "cell_type": "markdown",
   "metadata": {},
   "source": [
    "# Day and Night Image Classifier\n",
    "---\n",
    "\n",
    "The day/night image dataset consists of 200 RGB color images in two categories: day and night. There are equal numbers of each example: 100 day images and 100 night images.\n",
    "\n",
    "We'd like to build a classifier that can accurately label these images as day or night, and that relies on finding distinguishing features between the two types of images!\n",
    "\n",
    "*Note: All images come from the [AMOS dataset](http://cs.uky.edu/~jacobs/datasets/amos/) (Archive of Many Outdoor Scenes).*\n"
   ]
  },
  {
   "cell_type": "markdown",
   "metadata": {},
   "source": [
    "### Import resources\n",
    "\n",
    "Before you get started on the project code, import the libraries and resources that you'll need."
   ]
  },
  {
   "cell_type": "code",
   "execution_count": 1,
   "metadata": {},
   "outputs": [],
   "source": [
    "import cv2 # computer vision library\n",
    "import helpers\n",
    "\n",
    "import numpy as np\n",
    "import matplotlib.pyplot as plt\n",
    "\n",
    "%matplotlib inline"
   ]
  },
  {
   "cell_type": "markdown",
   "metadata": {},
   "source": [
    "## Training and Testing Data\n",
    "The 200 day/night images are separated into training and testing datasets. \n",
    "\n",
    "* 60% of these images are training images, for you to use as you create a classifier.\n",
    "* 40% are test images, which will be used to test the accuracy of your classifier.\n",
    "\n",
    "First, we set some variables to keep track of some where our images are stored:\n",
    "\n",
    "    image_dir_training: the directory where our training image data is stored\n",
    "    image_dir_test: the directory where our test image data is stored"
   ]
  },
  {
   "cell_type": "code",
   "execution_count": 2,
   "metadata": {},
   "outputs": [],
   "source": [
    "# Image data directories\n",
    "image_dir_training = \"day_night_images/training/\"\n",
    "image_dir_test = \"day_night_images/test/\""
   ]
  },
  {
   "cell_type": "markdown",
   "metadata": {},
   "source": [
    "## Load the datasets\n",
    "\n",
    "These first few lines of code will load the training day/night images and store all of them in a variable, `IMAGE_LIST`. This list contains the images and their associated label (\"day\" or \"night\"). \n",
    "\n",
    "For example, the first image-label pair in `IMAGE_LIST` can be accessed by index: \n",
    "``` IMAGE_LIST[0][:]```.\n"
   ]
  },
  {
   "cell_type": "code",
   "execution_count": 3,
   "metadata": {},
   "outputs": [],
   "source": [
    "# Using the load_dataset function in helpers.py\n",
    "# Load training data\n",
    "IMAGE_LIST = helpers.load_dataset(image_dir_training)"
   ]
  },
  {
   "cell_type": "markdown",
   "metadata": {},
   "source": [
    "## Visualize sample day and night images"
   ]
  },
  {
   "cell_type": "code",
   "execution_count": 4,
   "metadata": {},
   "outputs": [
    {
     "ename": "IndexError",
     "evalue": "list index out of range",
     "output_type": "error",
     "traceback": [
      "\u001b[0;31m---------------------------------------------------------------------------\u001b[0m",
      "\u001b[0;31mIndexError\u001b[0m                                Traceback (most recent call last)",
      "\u001b[0;32m<ipython-input-4-64752e22966b>\u001b[0m in \u001b[0;36m<module>\u001b[0;34m\u001b[0m\n\u001b[1;32m      1\u001b[0m \u001b[0;31m# Select an image and its label by list index\u001b[0m\u001b[0;34m\u001b[0m\u001b[0;34m\u001b[0m\u001b[0;34m\u001b[0m\u001b[0m\n\u001b[1;32m      2\u001b[0m \u001b[0mimage_index\u001b[0m \u001b[0;34m=\u001b[0m \u001b[0;36m6\u001b[0m\u001b[0;34m\u001b[0m\u001b[0;34m\u001b[0m\u001b[0m\n\u001b[0;32m----> 3\u001b[0;31m \u001b[0mselected_image\u001b[0m \u001b[0;34m=\u001b[0m \u001b[0mIMAGE_LIST\u001b[0m\u001b[0;34m[\u001b[0m\u001b[0mimage_index\u001b[0m\u001b[0;34m]\u001b[0m\u001b[0;34m[\u001b[0m\u001b[0;36m0\u001b[0m\u001b[0;34m]\u001b[0m\u001b[0;34m\u001b[0m\u001b[0;34m\u001b[0m\u001b[0m\n\u001b[0m\u001b[1;32m      4\u001b[0m \u001b[0mselected_label\u001b[0m \u001b[0;34m=\u001b[0m \u001b[0mIMAGE_LIST\u001b[0m\u001b[0;34m[\u001b[0m\u001b[0mimage_index\u001b[0m\u001b[0;34m]\u001b[0m\u001b[0;34m[\u001b[0m\u001b[0;36m1\u001b[0m\u001b[0;34m]\u001b[0m\u001b[0;34m\u001b[0m\u001b[0;34m\u001b[0m\u001b[0m\n\u001b[1;32m      5\u001b[0m \u001b[0;34m\u001b[0m\u001b[0m\n",
      "\u001b[0;31mIndexError\u001b[0m: list index out of range"
     ]
    }
   ],
   "source": [
    "# Select an image and its label by list index\n",
    "image_index = 6\n",
    "selected_image = IMAGE_LIST[image_index][0]\n",
    "selected_label = IMAGE_LIST[image_index][1]\n",
    "\n",
    "## TODO: Create a subplot of a day image and a night image. The titles should consist of the shape and label\n",
    "# of the image\n",
    "\n",
    "#Find beginning of night images\n",
    "nightIndex = 0\n",
    "done = False\n",
    "\n",
    "while(not done):  \n",
    "    if(IMAGE_LIST[nightIndex][1] == \"night\"):\n",
    "        done = True\n",
    "    else:\n",
    "        nightIndex = nightIndex + 1\n",
    "\n",
    "f,(ax1,ax2) = plt.subplots(1, 2, figsize=(20,10))\n",
    "\n",
    "#Title needs to be formatted as: Shape: img.shape\\nIMAGE_LIST[i][1] Maybe approach via removing elements of tuple and using the values\n",
    "#to generate String values?\n",
    "\n",
    "title1 = 'Shape: (' + ','.join(str(v) for v in selected_image.shape) + ')\\n' + IMAGE_LIST[image_index][1];\n",
    "ax1.set_title(title1)\n",
    "ax1.imshow(selected_image)\n",
    "\n",
    "image_index = nightIndex\n",
    "selected_image = IMAGE_LIST[image_index][0]\n",
    "selected_label = IMAGE_LIST[image_index][1]\n",
    "\n",
    "title2 = 'Shape: (' + ','.join(str(v) for v in selected_image.shape) + ')\\n' + IMAGE_LIST[image_index][1];\n",
    "ax2.set_title(title2)\n",
    "ax2.imshow(selected_image)"
   ]
  },
  {
   "cell_type": "markdown",
   "metadata": {},
   "source": [
    "## Construct a `STANDARDIZED_LIST` of input images and output labels.\n",
    "\n",
    "This function takes in a list of image-label pairs and outputs a **standardized** list of resized images and numerical labels."
   ]
  },
  {
   "cell_type": "code",
   "execution_count": null,
   "metadata": {},
   "outputs": [],
   "source": [
    "## Standardize the input images\n",
    "# Resize each image to the desired input size: 600x1100px (hxw).\n",
    "# This function should take in an RGB image and return a new, standardized version\n",
    "def standardize_input(image, width, height):\n",
    "    \n",
    "    # Resize image and pre-process so that all \"standard\" images are the same size\n",
    "    # cv2.resize\n",
    "    dimensions = (width, height)\n",
    "    #Standardize first -> BRG to RGB\n",
    "    #image_copy = np.copy(image)\n",
    "    image = cv2.cvtColor(image, cv2.COLOR_BGR2RGB)\n",
    "    #Resize image\n",
    "    standard_im = cv2.resize(image, dimensions, interpolation = cv2.INTER_AREA)\n",
    "    \n",
    "    return standard_im\n",
    "\n",
    "# With each loaded image, we also specify the expected output. \n",
    "# For this, we use binary numerical values 0/1 = night/day.\n",
    "# Examples: \n",
    "# encode(\"day\") should return: 1\n",
    "# encode(\"night\") should return: 0\n",
    "def encode(label):\n",
    "        \n",
    "    numerical_val = 0\n",
    "    if(label == \"day\"):\n",
    "        numerical_val = 1\n",
    "    elif(label == \"night\"):\n",
    "        numerical_val = 0\n",
    "    \n",
    "    return numerical_val\n",
    "\n",
    "\n",
    "## Standardize the output using both functions above, standardize the input images and output labels\n",
    "def standardize(image_list):\n",
    "    \n",
    "    # Empty image data array\n",
    "    standard_list = []\n",
    "\n",
    "    # Iterate through all the image-label pairs\n",
    "    for item in image_list:\n",
    "        \n",
    "        # Standardize the image\n",
    "        standardImage = standardize_input(item[0], 1100, 600)\n",
    "        \n",
    "        # Create a numerical label\n",
    "        numLabel = encode(item[1])\n",
    "        \n",
    "        # Append the image, and its one hot encoded label to the full, processed list of image data\n",
    "        #standard_list.append((image_list[item][0],image_list[item][1]))\n",
    "        standard_list.append((standardImage, numLabel))\n",
    "    \n",
    "    return standard_list\n",
    "\n",
    "# Standardize all training images\n",
    "\n",
    "## TODO: Code the needed functions in the helpers file in order to return a standardized list.\n",
    "# NOTE: Adding copy of helpers' necessary functions here because for some reason it won't work using them from helpers.py\n",
    "# The code is identical but it only works if it's on the same notebook not really sure why ()\n",
    "\n",
    "STANDARDIZED_LIST = standardize(IMAGE_LIST)"
   ]
  },
  {
   "cell_type": "markdown",
   "metadata": {},
   "source": [
    "## Visualize the standardized data\n",
    "\n",
    "Display a standardized image from STANDARDIZED_LIST."
   ]
  },
  {
   "cell_type": "code",
   "execution_count": null,
   "metadata": {},
   "outputs": [],
   "source": [
    "# Display a standardized image and its label\n",
    "\n",
    "# Select an image by index\n",
    "image_num = 0\n",
    "selected_image = STANDARDIZED_LIST[image_num][0]\n",
    "selected_label = STANDARDIZED_LIST[image_num][1]\n",
    "\n",
    "# Display image and data about it\n",
    "plt.imshow(selected_image)\n",
    "print(\"Shape: \"+str(selected_image.shape))\n",
    "print(\"Label [1 = day, 0 = night]: \" + str(selected_label))\n"
   ]
  },
  {
   "cell_type": "markdown",
   "metadata": {},
   "source": [
    "# Feature Extraction\n",
    "\n",
    "Create a feature that represents the brightness in an image. We'll be extracting the **average brightness** using HSV colorspace. Specifically, we'll use the V channel (a measure of brightness), add up the pixel values in the V channel, then divide that sum by the area of the image to get the average Value of the image.\n"
   ]
  },
  {
   "cell_type": "markdown",
   "metadata": {},
   "source": [
    "---\n",
    "###  Find the average brigtness using the V channel\n",
    "\n",
    "This function takes in a **standardized** RGB image and returns a feature (a single value) that represent the average level of brightness in the image. We'll use this value to classify the image as day or night."
   ]
  },
  {
   "cell_type": "code",
   "execution_count": null,
   "metadata": {},
   "outputs": [],
   "source": [
    "# Find the average Value or brightness of an image\n",
    "def avg_brightness(rgb_image):\n",
    "    ## TODO: Get the average brightness from an image using the HSV color space.\n",
    "    \n",
    "    # Convert image to HSV\n",
    "    hsv = cv2.cvtColor(rgb_image, cv2.COLOR_RGB2HSV)\n",
    "\n",
    "    # Add up all the pixel values in the V channel\n",
    "    v = hsv[:,:,2]\n",
    "\n",
    "    totalSum = 0\n",
    "    for element in v:\n",
    "        for pixel in element:\n",
    "            totalSum = totalSum + pixel\n",
    "        \n",
    "    # find the avg\n",
    "    avg = totalSum/(1100*600)\n",
    "    \n",
    "    return avg\n",
    "\n",
    "avg_brightness(selected_image)"
   ]
  },
  {
   "cell_type": "code",
   "execution_count": null,
   "metadata": {},
   "outputs": [],
   "source": [
    "# Testing average brightness levels\n",
    "# Look at a number of different day and night images and think about \n",
    "# what average brightness value separates the two types of images\n",
    "\n",
    "# As an example, a \"night\" image is loaded in and its avg brightness is displayed\n",
    "image_num = 239\n",
    "test_im = STANDARDIZED_LIST[image_num][0]\n",
    "\n",
    "avg = avg_brightness(test_im)\n",
    "print('Avg brightness: ' + str(avg))\n",
    "plt.imshow(test_im)"
   ]
  },
  {
   "cell_type": "markdown",
   "metadata": {
    "collapsed": true
   },
   "source": [
    "# Classification and Visualizing Error\n",
    "\n",
    "In this section, we'll turn our average brightness feature into a classifier that takes in a standardized image and returns a `predicted_label` for that image. This `estimate_label` function should return a value: 0 or 1 (night or day, respectively)."
   ]
  },
  {
   "cell_type": "markdown",
   "metadata": {},
   "source": [
    "---\n",
    "### Build a complete classifier \n",
    "\n",
    "Complete this code so that it returns an estimated class label given an input RGB image."
   ]
  },
  {
   "cell_type": "code",
   "execution_count": null,
   "metadata": {},
   "outputs": [],
   "source": [
    "# This function should take in RGB image input\n",
    "def estimate_label(rgb_image):\n",
    "    ## TODO: Use the avg brightness feature to predict a label (0, 1)\n",
    "    # Extract average brightness feature from an RGB image \n",
    "    avg = avg_brightness(rgb_image)\n",
    "    \n",
    "    predicted_label = 0\n",
    "    \n",
    "    # Define a threshold value\n",
    "    threshold = 103\n",
    "    \n",
    "    if(avg >= threshold):\n",
    "        predicted_label = 1\n",
    "    \n",
    "    # if the average brightness is above the threshold value, we classify it as \"day\"\n",
    "    # else, the pred-cted_label can stay 0 (it is predicted to be \"night\")\n",
    "    \n",
    "    return predicted_label   "
   ]
  },
  {
   "cell_type": "markdown",
   "metadata": {},
   "source": [
    "## Testing the classifier\n",
    "\n",
    "Here is where we test your classification algorithm using our test set of data that we set aside at the beginning of the notebook!\n",
    "\n",
    "Since we are using a pretty simple brightess feature, we may not expect this classifier to be 100% accurate. We'll aim for around 75-85% accuracy usin this one feature.\n",
    "\n",
    "\n",
    "### Test dataset\n",
    "\n",
    "Below, we load in the test dataset, standardize it using the `standardize` function you defined above, and then **shuffle** it; this ensures that order will not play a role in testing accuracy.\n"
   ]
  },
  {
   "cell_type": "code",
   "execution_count": null,
   "metadata": {},
   "outputs": [],
   "source": [
    "import random\n",
    "\n",
    "# Using the load_dataset function in helpers.py\n",
    "# Load test data\n",
    "TEST_IMAGE_LIST = helpers.load_dataset(image_dir_test)\n",
    "\n",
    "# Standardize the test data\n",
    "STANDARDIZED_TEST_LIST = standardize(TEST_IMAGE_LIST)\n",
    "\n",
    "# Shuffle the standardized test data\n",
    "random.shuffle(STANDARDIZED_TEST_LIST)"
   ]
  },
  {
   "cell_type": "markdown",
   "metadata": {},
   "source": [
    "## Determine the Accuracy\n",
    "\n",
    "Compare the output of your classification algorithm (a.k.a. your \"model\") with the true labels and determine the accuracy.\n",
    "\n",
    "This code stores all the misclassified images, their predicted labels, and their true labels, in a list called `misclassified`."
   ]
  },
  {
   "cell_type": "code",
   "execution_count": null,
   "metadata": {},
   "outputs": [],
   "source": [
    "# Constructs a list of misclassified images given a list of test images and their labels\n",
    "def get_misclassified_images(test_images):\n",
    "    # Track misclassified images by placing them into a list\n",
    "    misclassified_images_labels = []\n",
    "\n",
    "    # Iterate through all the test images\n",
    "    # Classify each image and compare to the true label\n",
    "    for image in test_images:\n",
    "\n",
    "        # Get true data\n",
    "        im = image[0]\n",
    "        true_label = image[1]\n",
    "\n",
    "        ## TODO:\n",
    "        # Get predicted label from your classifier\n",
    "        predicted_label = estimate_label(im)\n",
    "\n",
    "        # Compare true and predicted labels \n",
    "        # If these labels are not equal, the image has been misclassified. Append a tuple of\n",
    "        # image, prediction, and true label to the misclassified list.\n",
    "        \n",
    "        if(true_label != predicted_label):\n",
    "            misclassified_images_labels.append((im,true_label,predicted_label))\n",
    "            \n",
    "    # Return the list of misclassified [image, predicted_label, true_label] values\n",
    "    return misclassified_images_labels\n"
   ]
  },
  {
   "cell_type": "code",
   "execution_count": null,
   "metadata": {},
   "outputs": [],
   "source": [
    "# Find all misclassified images in a given test set\n",
    "MISCLASSIFIED = get_misclassified_images(STANDARDIZED_TEST_LIST)\n",
    "\n",
    "## TODO: Calculate the accuracy of the classifier. Accuracy = number of correct / total number of images\n",
    "# Accuracy calculations\n",
    "total = len(STANDARDIZED_TEST_LIST)\n",
    "\n",
    "accuracy = (total-len(MISCLASSIFIED))/total\n",
    "\n",
    "print('Accuracy: ' + str(accuracy))\n",
    "print(\"Number of misclassified images = \" + str(len(MISCLASSIFIED)) +' out of '+ str(total))"
   ]
  },
  {
   "cell_type": "markdown",
   "metadata": {},
   "source": [
    "---\n",
    "<a id='task9'></a>\n",
    "### Visualize the misclassified images\n",
    "\n",
    "Visualize some of the images you classified wrong (in the `MISCLASSIFIED` list) and note any qualities that make them difficult to classify."
   ]
  },
  {
   "cell_type": "code",
   "execution_count": null,
   "metadata": {},
   "outputs": [],
   "source": [
    "# Visualize misclassified example(s)\n",
    "## TODO: Display an image in the `MISCLASSIFIED` list \n",
    "sampleMisclassified = 11         #CHANGE this value to see different misclassified images\n",
    "plt.imshow(MISCLASSIFIED[sampleMisclassified][0])\n",
    "## TODO: Print out its predicted label - to see what the image *was* incorrectly classified as\n",
    "print('Predicted label: ', MISCLASSIFIED[sampleMisclassified][2], '\\nTrue label: ', MISCLASSIFIED[sampleMisclassified][1])"
   ]
  },
  {
   "cell_type": "code",
   "execution_count": null,
   "metadata": {},
   "outputs": [],
   "source": []
  }
 ],
 "metadata": {
  "anaconda-cloud": {},
  "kernelspec": {
   "display_name": "Python 3",
   "language": "python",
   "name": "python3"
  },
  "language_info": {
   "codemirror_mode": {
    "name": "ipython",
    "version": 3
   },
   "file_extension": ".py",
   "mimetype": "text/x-python",
   "name": "python",
   "nbconvert_exporter": "python",
   "pygments_lexer": "ipython3",
   "version": "3.7.6"
  }
 },
 "nbformat": 4,
 "nbformat_minor": 2
}
