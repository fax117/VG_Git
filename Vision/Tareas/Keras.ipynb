{
  "nbformat": 4,
  "nbformat_minor": 0,
  "metadata": {
    "colab": {
      "name": "Keras.ipynb",
      "provenance": [],
      "collapsed_sections": []
    },
    "kernelspec": {
      "name": "python3",
      "display_name": "Python 3"
    }
  },
  "cells": [
    {
      "cell_type": "code",
      "metadata": {
        "id": "jWGfenhEBWkY",
        "colab_type": "code",
        "colab": {}
      },
      "source": [
        "%tensorflow_version 2.x\n",
        "\n",
        "import tensorflow as tf\n",
        "\n",
        "from tensorflow import keras\n",
        "from tensorflow.keras import layers\n",
        "from tensorflow.keras.utils import to_categorical\n",
        "\n",
        "from tensorflow.keras.datasets import fashion_mnist\n",
        "\n",
        "import numpy as np\n",
        "import matplotlib.pyplot as plt"
      ],
      "execution_count": 0,
      "outputs": []
    },
    {
      "cell_type": "code",
      "metadata": {
        "id": "JAuuuJtDCn_G",
        "colab_type": "code",
        "outputId": "65a1d511-c62c-4b6c-87cd-986daaaf4b12",
        "colab": {
          "base_uri": "https://localhost:8080/",
          "height": 295
        }
      },
      "source": [
        "(train_images, train_labels), (test_images, test_labels) = fashion_mnist.load_data()\n",
        "\n",
        "print(f\"Train set shape: {train_images.shape}\")\n",
        "print(f\"Train set label: {len(train_labels)}\")\n",
        "\n",
        "print(f\"Test set shape: {test_images.shape}\")\n",
        "print(f\"Test set label: {len(test_labels)}\")"
      ],
      "execution_count": 10,
      "outputs": [
        {
          "output_type": "stream",
          "text": [
            "Downloading data from https://storage.googleapis.com/tensorflow/tf-keras-datasets/train-labels-idx1-ubyte.gz\n",
            "32768/29515 [=================================] - 0s 0us/step\n",
            "Downloading data from https://storage.googleapis.com/tensorflow/tf-keras-datasets/train-images-idx3-ubyte.gz\n",
            "26427392/26421880 [==============================] - 0s 0us/step\n",
            "Downloading data from https://storage.googleapis.com/tensorflow/tf-keras-datasets/t10k-labels-idx1-ubyte.gz\n",
            "8192/5148 [===============================================] - 0s 0us/step\n",
            "Downloading data from https://storage.googleapis.com/tensorflow/tf-keras-datasets/t10k-images-idx3-ubyte.gz\n",
            "4423680/4422102 [==============================] - 0s 0us/step\n",
            "Train set shape: (60000, 28, 28)\n",
            "Train set label: 60000\n",
            "Test set shape: (10000, 28, 28)\n",
            "Test set label: 10000\n",
            "Train set shape: (60000, 28, 28)\n",
            "Train set label: 60000\n",
            "Test set shape: (10000, 28, 28)\n",
            "Test set label: 10000\n"
          ],
          "name": "stdout"
        }
      ]
    },
    {
      "cell_type": "code",
      "metadata": {
        "id": "dRb2u2ZKDdda",
        "colab_type": "code",
        "outputId": "e1abd204-e11c-4930-b958-09631b3c1f07",
        "colab": {
          "base_uri": "https://localhost:8080/",
          "height": 513
        }
      },
      "source": [
        "plt.figure()\n",
        "plt.imshow(train_images[-1], cmap=\"binary\")\n",
        "plt.colorbar()\n",
        "plt.show()"
      ],
      "execution_count": 11,
      "outputs": [
        {
          "output_type": "display_data",
          "data": {
            "image/png": "[encoded data removed]",
            "text/plain": [
              "<Figure size 432x288 with 2 Axes>"
            ]
          },
          "metadata": {
            "tags": []
          }
        },
        {
          "output_type": "display_data",
          "data": {
            "image/png": "[encoded data removed]",
            "text/plain": [
              "<Figure size 432x288 with 2 Axes>"
            ]
          },
          "metadata": {
            "tags": []
          }
        }
      ]
    },
    {
      "cell_type": "markdown",
      "metadata": {
        "id": "nkLuzQTeDqip",
        "colab_type": "text"
      },
      "source": [
        "Standardize the dataset"
      ]
    },
    {
      "cell_type": "code",
      "metadata": {
        "id": "yZDxX-C2DpPH",
        "colab_type": "code",
        "outputId": "3aefc2e9-79d9-44e2-d3a9-39bd4e2e29d8",
        "colab": {
          "base_uri": "https://localhost:8080/",
          "height": 86
        }
      },
      "source": [
        "#Transformar las 60K imagenes en un vector columna de 28*28\n",
        "train_images_std = train_images.reshape((60000, 28 * 28)) \n",
        "train_images_std = train_images_std.astype(\"float32\")/255\n",
        "\n",
        "test_images_std = test_images.reshape((10000, 28 * 28))\n",
        "test_images_std = test_images_std.astype(\"float32\")/255\n",
        "\n",
        "train_labels_std = to_categorical(train_labels) \n",
        "test_labels_std = to_categorical(test_labels)\n",
        "\n",
        "print(train_labels[-1])\n",
        "print(train_labels_std[-1])"
      ],
      "execution_count": 12,
      "outputs": [
        {
          "output_type": "stream",
          "text": [
            "5\n",
            "[0. 0. 0. 0. 0. 1. 0. 0. 0. 0.]\n",
            "5\n",
            "[0. 0. 0. 0. 0. 1. 0. 0. 0. 0.]\n"
          ],
          "name": "stdout"
        }
      ]
    },
    {
      "cell_type": "markdown",
      "metadata": {
        "id": "ljN4l8vyHMXN",
        "colab_type": "text"
      },
      "source": [
        "Create and compile the model"
      ]
    },
    {
      "cell_type": "code",
      "metadata": {
        "id": "floHvI8NFx8Z",
        "colab_type": "code",
        "outputId": "efd91110-3d22-45f3-fa87-ff12906c8e48",
        "colab": {
          "base_uri": "https://localhost:8080/",
          "height": 260
        }
      },
      "source": [
        "network = keras.Sequential()\n",
        "\n",
        "# Create our model\n",
        "network.add(layers.Dense(512, activation='relu', input_shape=( 28*28, )))\n",
        "network.add(layers.Dense(24, activation='relu'))\n",
        "network.add(layers.Dense(10, activation='softmax'))\n",
        "# Test loss: 0.4801672399044037 Test accuracy:0.896399974822998 \n",
        "\n",
        "network.compile(optimizer='adamax', loss='categorical_crossentropy', metrics=['accuracy'])\n",
        "\n",
        "network.summary()"
      ],
      "execution_count": 19,
      "outputs": [
        {
          "output_type": "stream",
          "text": [
            "Model: \"sequential_4\"\n",
            "_________________________________________________________________\n",
            "Layer (type)                 Output Shape              Param #   \n",
            "=================================================================\n",
            "dense_16 (Dense)             (None, 512)               401920    \n",
            "_________________________________________________________________\n",
            "dense_17 (Dense)             (None, 24)                12312     \n",
            "_________________________________________________________________\n",
            "dense_18 (Dense)             (None, 10)                250       \n",
            "=================================================================\n",
            "Total params: 414,482\n",
            "Trainable params: 414,482\n",
            "Non-trainable params: 0\n",
            "_________________________________________________________________\n"
          ],
          "name": "stdout"
        }
      ]
    },
    {
      "cell_type": "markdown",
      "metadata": {
        "id": "a4rKOWUDlM0H",
        "colab_type": "text"
      },
      "source": [
        "#network.add(layers.Dense(512, activation='relu', input_shape=( 28*28, )))\n",
        "#network.add(layers.Dense(24, activation='relu'))\n",
        "#network.add(layers.Dense(10, activation='softmax'))\n",
        "\n",
        "#Test loss: 0.4235382676124573 Test accuracy:0.8988000154495239"
      ]
    },
    {
      "cell_type": "markdown",
      "metadata": {
        "id": "RFU6cpH5LXz1",
        "colab_type": "text"
      },
      "source": [
        "### Train the model\n"
      ]
    },
    {
      "cell_type": "code",
      "metadata": {
        "id": "AXUUfGCpK-8u",
        "colab_type": "code",
        "outputId": "82ab1588-c6cd-422a-abb9-79b1858b0be4",
        "colab": {
          "base_uri": "https://localhost:8080/",
          "height": 1000
        }
      },
      "source": [
        "network.fit(train_images_std, train_labels_std, epochs=50)\n",
        "\n",
        "test_loss, test_acc = network.evaluate(test_images_std, test_labels_std) \n",
        "print(f\"Test loss: {test_loss} Test accuracy:{test_acc}\")"
      ],
      "execution_count": 18,
      "outputs": [
        {
          "output_type": "stream",
          "text": [
            "Epoch 1/50\n",
            "1875/1875 [==============================] - 8s 4ms/step - loss: 0.8207 - accuracy: 0.7431\n",
            "Epoch 2/50\n",
            "1875/1875 [==============================] - 8s 4ms/step - loss: 0.5469 - accuracy: 0.8221\n",
            "Epoch 3/50\n",
            "1875/1875 [==============================] - 8s 4ms/step - loss: 0.4631 - accuracy: 0.8496\n",
            "Epoch 4/50\n",
            "1875/1875 [==============================] - 8s 4ms/step - loss: 0.4117 - accuracy: 0.8623\n",
            "Epoch 5/50\n",
            "1875/1875 [==============================] - 8s 4ms/step - loss: 0.3803 - accuracy: 0.8681\n",
            "Epoch 6/50\n",
            "1875/1875 [==============================] - 8s 4ms/step - loss: 0.3600 - accuracy: 0.8758\n",
            "Epoch 7/50\n",
            "1875/1875 [==============================] - 8s 4ms/step - loss: 0.3402 - accuracy: 0.8806\n",
            "Epoch 8/50\n",
            "1875/1875 [==============================] - 8s 5ms/step - loss: 0.3263 - accuracy: 0.8864\n",
            "Epoch 9/50\n",
            "1875/1875 [==============================] - 8s 5ms/step - loss: 0.3125 - accuracy: 0.8906\n",
            "Epoch 10/50\n",
            "1875/1875 [==============================] - 8s 5ms/step - loss: 0.3005 - accuracy: 0.8937\n",
            "Epoch 11/50\n",
            "1875/1875 [==============================] - 9s 5ms/step - loss: 0.2900 - accuracy: 0.8989\n",
            "Epoch 12/50\n",
            "1875/1875 [==============================] - 9s 5ms/step - loss: 0.2822 - accuracy: 0.9015\n",
            "Epoch 13/50\n",
            "1875/1875 [==============================] - 9s 5ms/step - loss: 0.2723 - accuracy: 0.9040\n",
            "Epoch 14/50\n",
            "1875/1875 [==============================] - 9s 5ms/step - loss: 0.2651 - accuracy: 0.9057\n",
            "Epoch 15/50\n",
            "1875/1875 [==============================] - 8s 4ms/step - loss: 0.2565 - accuracy: 0.9093\n",
            "Epoch 16/50\n",
            "1875/1875 [==============================] - 8s 4ms/step - loss: 0.2489 - accuracy: 0.9109\n",
            "Epoch 17/50\n",
            "1875/1875 [==============================] - 8s 4ms/step - loss: 0.2428 - accuracy: 0.9143\n",
            "Epoch 18/50\n",
            "1875/1875 [==============================] - 8s 4ms/step - loss: 0.2350 - accuracy: 0.9170\n",
            "Epoch 19/50\n",
            "1875/1875 [==============================] - 8s 4ms/step - loss: 0.2291 - accuracy: 0.9181\n",
            "Epoch 20/50\n",
            "1875/1875 [==============================] - 8s 4ms/step - loss: 0.2225 - accuracy: 0.9207\n",
            "Epoch 21/50\n",
            "1875/1875 [==============================] - 8s 4ms/step - loss: 0.2173 - accuracy: 0.9228\n",
            "Epoch 22/50\n",
            "1875/1875 [==============================] - 8s 4ms/step - loss: 0.2097 - accuracy: 0.9266\n",
            "Epoch 23/50\n",
            "1875/1875 [==============================] - 8s 4ms/step - loss: 0.2049 - accuracy: 0.9273\n",
            "Epoch 24/50\n",
            "1875/1875 [==============================] - 8s 4ms/step - loss: 0.1996 - accuracy: 0.9292\n",
            "Epoch 25/50\n",
            "1875/1875 [==============================] - 8s 4ms/step - loss: 0.1960 - accuracy: 0.9305\n",
            "Epoch 26/50\n",
            "1875/1875 [==============================] - 8s 4ms/step - loss: 0.1881 - accuracy: 0.9334\n",
            "Epoch 27/50\n",
            "1875/1875 [==============================] - 7s 4ms/step - loss: 0.1846 - accuracy: 0.9355\n",
            "Epoch 28/50\n",
            "1875/1875 [==============================] - 7s 4ms/step - loss: 0.1803 - accuracy: 0.9369\n",
            "Epoch 29/50\n",
            "1875/1875 [==============================] - 8s 4ms/step - loss: 0.1755 - accuracy: 0.9385\n",
            "Epoch 30/50\n",
            "1875/1875 [==============================] - 8s 4ms/step - loss: 0.1687 - accuracy: 0.9408\n",
            "Epoch 31/50\n",
            "1875/1875 [==============================] - 8s 4ms/step - loss: 0.1646 - accuracy: 0.9428\n",
            "Epoch 32/50\n",
            "1875/1875 [==============================] - 8s 4ms/step - loss: 0.1602 - accuracy: 0.9433\n",
            "Epoch 33/50\n",
            "1875/1875 [==============================] - 9s 5ms/step - loss: 0.1561 - accuracy: 0.9455\n",
            "Epoch 34/50\n",
            "1875/1875 [==============================] - 9s 5ms/step - loss: 0.1513 - accuracy: 0.9471\n",
            "Epoch 35/50\n",
            "1875/1875 [==============================] - 9s 5ms/step - loss: 0.1470 - accuracy: 0.9488\n",
            "Epoch 36/50\n",
            "1875/1875 [==============================] - 9s 5ms/step - loss: 0.1442 - accuracy: 0.9492\n",
            "Epoch 37/50\n",
            "1875/1875 [==============================] - 10s 5ms/step - loss: 0.1407 - accuracy: 0.9503\n",
            "Epoch 38/50\n",
            "1875/1875 [==============================] - 10s 5ms/step - loss: 0.1359 - accuracy: 0.9528\n",
            "Epoch 39/50\n",
            "1875/1875 [==============================] - 9s 5ms/step - loss: 0.1319 - accuracy: 0.9534\n",
            "Epoch 40/50\n",
            "1875/1875 [==============================] - 10s 5ms/step - loss: 0.1266 - accuracy: 0.9567\n",
            "Epoch 41/50\n",
            "1875/1875 [==============================] - 10s 5ms/step - loss: 0.1238 - accuracy: 0.9566\n",
            "Epoch 42/50\n",
            "1875/1875 [==============================] - 10s 5ms/step - loss: 0.1208 - accuracy: 0.9578\n",
            "Epoch 43/50\n",
            "1875/1875 [==============================] - 10s 5ms/step - loss: 0.1178 - accuracy: 0.9592\n",
            "Epoch 44/50\n",
            "1875/1875 [==============================] - 10s 5ms/step - loss: 0.1141 - accuracy: 0.9601\n",
            "Epoch 45/50\n",
            "1875/1875 [==============================] - 10s 5ms/step - loss: 0.1107 - accuracy: 0.9614\n",
            "Epoch 46/50\n",
            "1875/1875 [==============================] - 10s 5ms/step - loss: 0.1079 - accuracy: 0.9628\n",
            "Epoch 47/50\n",
            "1875/1875 [==============================] - 10s 5ms/step - loss: 0.1069 - accuracy: 0.9626\n",
            "Epoch 48/50\n",
            "1875/1875 [==============================] - 10s 5ms/step - loss: 0.1029 - accuracy: 0.9640\n",
            "Epoch 49/50\n",
            "1875/1875 [==============================] - 10s 5ms/step - loss: 0.0990 - accuracy: 0.9659\n",
            "Epoch 50/50\n",
            "1875/1875 [==============================] - 10s 5ms/step - loss: 0.0960 - accuracy: 0.9670\n",
            "313/313 [==============================] - 1s 3ms/step - loss: 0.4293 - accuracy: 0.8848\n",
            "Test loss: 0.4293173849582672 Test accuracy:0.8848000168800354\n"
          ],
          "name": "stdout"
        }
      ]
    }
  ]
}